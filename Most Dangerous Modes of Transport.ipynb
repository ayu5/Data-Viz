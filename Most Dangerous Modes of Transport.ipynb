{
 "cells": [
  {
   "cell_type": "markdown",
   "metadata": {},
   "source": [
    "## Fatality Risk Comparisons Between Modes of Transport \n",
    "data source: https://en.wikipedia.org/wiki/Aviation_safety#Transport_comparisons"
   ]
  },
  {
   "cell_type": "code",
   "execution_count": 1,
   "metadata": {},
   "outputs": [
    {
     "data": {
      "text/html": [
       "        <script type=\"text/javascript\">\n",
       "        window.PlotlyConfig = {MathJaxConfig: 'local'};\n",
       "        if (window.MathJax) {MathJax.Hub.Config({SVG: {font: \"STIX-Web\"}});}\n",
       "        if (typeof require !== 'undefined') {\n",
       "        require.undef(\"plotly\");\n",
       "        requirejs.config({\n",
       "            paths: {\n",
       "                'plotly': ['https://cdn.plot.ly/plotly-latest.min']\n",
       "            }\n",
       "        });\n",
       "        require(['plotly'], function(Plotly) {\n",
       "            window._Plotly = Plotly;\n",
       "        });\n",
       "        }\n",
       "        </script>\n",
       "        "
      ]
     },
     "metadata": {},
     "output_type": "display_data"
    }
   ],
   "source": [
    "import pandas as pd\n",
    "import numpy as np\n",
    "import plotly.graph_objs as go\n",
    "import plotly.plotly as py\n",
    "import plotly\n",
    "plotly.offline.init_notebook_mode(connected=True)"
   ]
  },
  {
   "cell_type": "code",
   "execution_count": 2,
   "metadata": {
    "scrolled": false
   },
   "outputs": [
    {
     "data": {
      "application/vnd.plotly.v1+json": {
       "config": {
        "linkText": "Export to plot.ly",
        "plotlyServerURL": "https://plot.ly",
        "responsive": true,
        "showLink": false
       },
       "data": [
        {
         "name": "Journeys",
         "type": "bar",
         "uid": "838bc458-d447-4f6c-93ca-6442caae6416",
         "x": [
          "Motorcycle",
          "Pedal cycle",
          "Foot",
          "Car",
          "Air",
          "Water",
          "Van",
          "Rail",
          "Bus"
         ],
         "y": [
          1640,
          170,
          40,
          40,
          117,
          90,
          20,
          20,
          4.3
         ]
        },
        {
         "name": "Hours",
         "type": "bar",
         "uid": "0d74a834-12ec-49d9-84c4-36b9e78e0635",
         "x": [
          "Motorcycle",
          "Pedal cycle",
          "Foot",
          "Car",
          "Air",
          "Water",
          "Van",
          "Rail",
          "Bus"
         ],
         "y": [
          4840,
          550,
          220,
          130,
          30.8,
          50,
          60,
          30,
          11.1
         ]
        },
        {
         "name": "Kilometers",
         "type": "bar",
         "uid": "a0dc7459-9fc1-4ec1-8445-b33b52ab1fb5",
         "x": [
          "Motorcycle",
          "Pedal cycle",
          "Foot",
          "Car",
          "Air",
          "Water",
          "Van",
          "Rail",
          "Bus"
         ],
         "y": [
          108.9,
          44.6,
          54.2,
          3.1,
          0.05,
          2.6,
          1.2,
          0.6,
          0.4
         ]
        }
       ],
       "layout": {
        "barmode": "stack",
        "title": {
         "text": "Most Dangerous Mode of Transport"
        },
        "xaxis": {
         "title": {
          "font": {
           "size": 18
          },
          "text": "Type of Transport"
         }
        },
        "yaxis": {
         "title": {
          "font": {
           "size": 18
          },
          "text": "Deaths per Billion"
         }
        }
       }
      },
      "text/html": [
       "<div>\n",
       "        \n",
       "        \n",
       "            <div id=\"522f3688-19b4-474f-b632-055a1bdcd7de\" class=\"plotly-graph-div\" style=\"height:525px; width:100%;\"></div>\n",
       "            <script type=\"text/javascript\">\n",
       "                require([\"plotly\"], function(Plotly) {\n",
       "                    window.PLOTLYENV=window.PLOTLYENV || {};\n",
       "                    window.PLOTLYENV.BASE_URL='https://plot.ly';\n",
       "                    \n",
       "                if (document.getElementById(\"522f3688-19b4-474f-b632-055a1bdcd7de\")) {\n",
       "                    Plotly.newPlot(\n",
       "                        '522f3688-19b4-474f-b632-055a1bdcd7de',\n",
       "                        [{\"name\": \"Journeys\", \"type\": \"bar\", \"uid\": \"9fca9068-1588-4c8d-960b-a30588e36305\", \"x\": [\"Motorcycle\", \"Pedal cycle\", \"Foot\", \"Car\", \"Air\", \"Water\", \"Van\", \"Rail\", \"Bus\"], \"y\": [1640.0, 170.0, 40.0, 40.0, 117.0, 90.0, 20.0, 20.0, 4.3]}, {\"name\": \"Hours\", \"type\": \"bar\", \"uid\": \"c1b25642-f0e1-4afe-990c-8a2244a6d694\", \"x\": [\"Motorcycle\", \"Pedal cycle\", \"Foot\", \"Car\", \"Air\", \"Water\", \"Van\", \"Rail\", \"Bus\"], \"y\": [4840.0, 550.0, 220.0, 130.0, 30.8, 50.0, 60.0, 30.0, 11.1]}, {\"name\": \"Kilometers\", \"type\": \"bar\", \"uid\": \"a7d74f9f-ebde-4fad-9ee4-2b88ee0c756a\", \"x\": [\"Motorcycle\", \"Pedal cycle\", \"Foot\", \"Car\", \"Air\", \"Water\", \"Van\", \"Rail\", \"Bus\"], \"y\": [108.9, 44.6, 54.2, 3.1, 0.05, 2.6, 1.2, 0.6, 0.4]}],\n",
       "                        {\"barmode\": \"stack\", \"title\": {\"text\": \"Most Dangerous Mode of Transport\"}, \"xaxis\": {\"title\": {\"font\": {\"size\": 18}, \"text\": \"Type of Transport\"}}, \"yaxis\": {\"title\": {\"font\": {\"size\": 18}, \"text\": \"Deaths per Billion\"}}},\n",
       "                        {\"showLink\": false, \"linkText\": \"Export to plot.ly\", \"plotlyServerURL\": \"https://plot.ly\", \"responsive\": true}\n",
       "                    ).then(function(){\n",
       "                            \n",
       "var gd = document.getElementById('522f3688-19b4-474f-b632-055a1bdcd7de');\n",
       "var x = new MutationObserver(function (mutations, observer) {{\n",
       "        var display = window.getComputedStyle(gd).display;\n",
       "        if (!display || display === 'none') {{\n",
       "            console.log([gd, 'removed!']);\n",
       "            Plotly.purge(gd);\n",
       "            observer.disconnect();\n",
       "        }}\n",
       "}});\n",
       "\n",
       "// Listen for the removal of the full notebook cells\n",
       "var notebookContainer = gd.closest('#notebook-container');\n",
       "if (notebookContainer) {{\n",
       "    x.observe(notebookContainer, {childList: true});\n",
       "}}\n",
       "\n",
       "// Listen for the clearing of the current output cell\n",
       "var outputEl = gd.closest('.output');\n",
       "if (outputEl) {{\n",
       "    x.observe(outputEl, {childList: true});\n",
       "}}\n",
       "\n",
       "                        })\n",
       "                };\n",
       "                });\n",
       "            </script>\n",
       "        </div>"
      ]
     },
     "metadata": {},
     "output_type": "display_data"
    }
   ],
   "source": [
    "types = ['Bus', 'Rail', 'Van', 'Car', 'Foot', 'Water', 'Air', 'Pedal cycle', 'Motorcycle']\n",
    "journeys = [4.3,20,20,40,40,90,117,170,1640]\n",
    "hours = [11.1,30,60,130,220,50,30.8,550,4840]\n",
    "km = [0.4,0.6,1.2,3.1,54.2,2.6,0.05,44.6,108.9]\n",
    "df = pd.DataFrame({'Type':types, 'Journeys':journeys, 'Hours':hours, 'Kilometers':km})\n",
    "df = df.assign(sum=df.sum(axis=1)).sort_values(by='sum', ascending=False).iloc[:, :-1]\n",
    "#print(df)\n",
    "\n",
    "trace1 = go.Bar(\n",
    "    x = df['Type'],\n",
    "    y = df['Journeys'],\n",
    "    name = 'Journeys')\n",
    "trace2 = go.Bar(\n",
    "    x = df['Type'],\n",
    "    y = df['Hours'],\n",
    "    name = 'Hours')\n",
    "trace3 = go.Bar(\n",
    "    x = df['Type'],\n",
    "    y = df['Kilometers'],\n",
    "    name = 'Kilometers')\n",
    "\n",
    "data = [trace1, trace2, trace3]\n",
    "layout = go.Layout(\n",
    "    barmode='stack',\n",
    "    title = 'Most Dangerous Mode of Transport',\n",
    "    xaxis=go.layout.XAxis(\n",
    "        title=go.layout.xaxis.Title(\n",
    "            text='Type of Transport',\n",
    "            font=dict(\n",
    "                size=18\n",
    "            )\n",
    "        )\n",
    "    ),\n",
    "    yaxis=go.layout.YAxis(\n",
    "        title=go.layout.yaxis.Title(\n",
    "            text='Deaths per Billion',\n",
    "            font=dict(\n",
    "                size=18\n",
    "            )\n",
    "        )\n",
    "    )\n",
    ")\n",
    "\n",
    "fig = go.Figure(data=data, layout=layout)\n",
    "plotly.offline.iplot(fig, filename='stacked-bar')"
   ]
  },
  {
   "cell_type": "code",
   "execution_count": 3,
   "metadata": {},
   "outputs": [
    {
     "name": "stdout",
     "output_type": "stream",
     "text": [
      "This is the format of your plot grid:\n",
      "[ (1,1) x1,y1 ]  [ (1,2) x2,y2 ]  [ (1,3) x3,y3 ]\n",
      "\n"
     ]
    },
    {
     "data": {
      "application/vnd.plotly.v1+json": {
       "config": {
        "linkText": "Export to plot.ly",
        "plotlyServerURL": "https://plot.ly",
        "responsive": true,
        "showLink": false
       },
       "data": [
        {
         "name": "Deaths per Billion Journeys",
         "type": "bar",
         "uid": "7f520d55-c8b2-40de-abaf-a9fc22c85ddd",
         "x": [
          "Motorcycle",
          "Pedal cycle",
          "Air",
          "Water",
          "Foot",
          "Car",
          "Van",
          "Rail",
          "Bus"
         ],
         "xaxis": "x",
         "y": [
          1640,
          170,
          117,
          90,
          40,
          40,
          20,
          20,
          4.3
         ],
         "yaxis": "y"
        },
        {
         "name": "Deaths per Billion Hours",
         "type": "bar",
         "uid": "92ae7f9f-122b-41bb-9ef8-63ddb03c4682",
         "x": [
          "Motorcycle",
          "Pedal cycle",
          "Foot",
          "Car",
          "Van",
          "Water",
          "Air",
          "Rail",
          "Bus"
         ],
         "xaxis": "x2",
         "y": [
          4840,
          550,
          220,
          130,
          60,
          50,
          30.8,
          30,
          11.1
         ],
         "yaxis": "y2"
        },
        {
         "name": "Deaths per Billion Kilometers",
         "type": "bar",
         "uid": "09c94afc-d781-4415-bd03-5cb242311489",
         "x": [
          "Motorcycle",
          "Foot",
          "Pedal cycle",
          "Car",
          "Water",
          "Van",
          "Rail",
          "Bus",
          "Air"
         ],
         "xaxis": "x3",
         "y": [
          108.9,
          54.2,
          44.6,
          3.1,
          2.6,
          1.2,
          0.6,
          0.4,
          0.05
         ],
         "yaxis": "y3"
        }
       ],
       "layout": {
        "height": 600,
        "title": {
         "text": "Most Dangerous Modes of Transportation"
        },
        "width": 800,
        "xaxis": {
         "anchor": "y",
         "domain": [
          0,
          0.2888888888888889
         ]
        },
        "xaxis2": {
         "anchor": "y2",
         "domain": [
          0.35555555555555557,
          0.6444444444444445
         ]
        },
        "xaxis3": {
         "anchor": "y3",
         "domain": [
          0.7111111111111111,
          1
         ]
        },
        "yaxis": {
         "anchor": "x",
         "domain": [
          0,
          1
         ]
        },
        "yaxis2": {
         "anchor": "x2",
         "domain": [
          0,
          1
         ]
        },
        "yaxis3": {
         "anchor": "x3",
         "domain": [
          0,
          1
         ]
        }
       }
      },
      "text/html": [
       "<div>\n",
       "        \n",
       "        \n",
       "            <div id=\"b11f6b38-2c7a-4108-ab21-de09d0998b92\" class=\"plotly-graph-div\" style=\"height:600px; width:800px;\"></div>\n",
       "            <script type=\"text/javascript\">\n",
       "                require([\"plotly\"], function(Plotly) {\n",
       "                    window.PLOTLYENV=window.PLOTLYENV || {};\n",
       "                    window.PLOTLYENV.BASE_URL='https://plot.ly';\n",
       "                    \n",
       "                if (document.getElementById(\"b11f6b38-2c7a-4108-ab21-de09d0998b92\")) {\n",
       "                    Plotly.newPlot(\n",
       "                        'b11f6b38-2c7a-4108-ab21-de09d0998b92',\n",
       "                        [{\"name\": \"Deaths per Billion Journeys\", \"type\": \"bar\", \"uid\": \"99553d4a-d85a-4df4-a032-2da41261984d\", \"x\": [\"Motorcycle\", \"Pedal cycle\", \"Air\", \"Water\", \"Foot\", \"Car\", \"Van\", \"Rail\", \"Bus\"], \"xaxis\": \"x\", \"y\": [1640.0, 170.0, 117.0, 90.0, 40.0, 40.0, 20.0, 20.0, 4.3], \"yaxis\": \"y\"}, {\"name\": \"Deaths per Billion Hours\", \"type\": \"bar\", \"uid\": \"72886db1-c9ca-4e8a-b36c-24ea33564dd5\", \"x\": [\"Motorcycle\", \"Pedal cycle\", \"Foot\", \"Car\", \"Van\", \"Water\", \"Air\", \"Rail\", \"Bus\"], \"xaxis\": \"x2\", \"y\": [4840.0, 550.0, 220.0, 130.0, 60.0, 50.0, 30.8, 30.0, 11.1], \"yaxis\": \"y2\"}, {\"name\": \"Deaths per Billion Kilometers\", \"type\": \"bar\", \"uid\": \"83f20bcf-3425-42d7-8f9a-f9ead41518a1\", \"x\": [\"Motorcycle\", \"Foot\", \"Pedal cycle\", \"Car\", \"Water\", \"Van\", \"Rail\", \"Bus\", \"Air\"], \"xaxis\": \"x3\", \"y\": [108.9, 54.2, 44.6, 3.1, 2.6, 1.2, 0.6, 0.4, 0.05], \"yaxis\": \"y3\"}],\n",
       "                        {\"height\": 600, \"title\": {\"text\": \"Most Dangerous Modes of Transportation\"}, \"width\": 800, \"xaxis\": {\"anchor\": \"y\", \"domain\": [0.0, 0.2888888888888889]}, \"xaxis2\": {\"anchor\": \"y2\", \"domain\": [0.35555555555555557, 0.6444444444444445]}, \"xaxis3\": {\"anchor\": \"y3\", \"domain\": [0.7111111111111111, 1.0]}, \"yaxis\": {\"anchor\": \"x\", \"domain\": [0.0, 1.0]}, \"yaxis2\": {\"anchor\": \"x2\", \"domain\": [0.0, 1.0]}, \"yaxis3\": {\"anchor\": \"x3\", \"domain\": [0.0, 1.0]}},\n",
       "                        {\"showLink\": false, \"linkText\": \"Export to plot.ly\", \"plotlyServerURL\": \"https://plot.ly\", \"responsive\": true}\n",
       "                    ).then(function(){\n",
       "                            \n",
       "var gd = document.getElementById('b11f6b38-2c7a-4108-ab21-de09d0998b92');\n",
       "var x = new MutationObserver(function (mutations, observer) {{\n",
       "        var display = window.getComputedStyle(gd).display;\n",
       "        if (!display || display === 'none') {{\n",
       "            console.log([gd, 'removed!']);\n",
       "            Plotly.purge(gd);\n",
       "            observer.disconnect();\n",
       "        }}\n",
       "}});\n",
       "\n",
       "// Listen for the removal of the full notebook cells\n",
       "var notebookContainer = gd.closest('#notebook-container');\n",
       "if (notebookContainer) {{\n",
       "    x.observe(notebookContainer, {childList: true});\n",
       "}}\n",
       "\n",
       "// Listen for the clearing of the current output cell\n",
       "var outputEl = gd.closest('.output');\n",
       "if (outputEl) {{\n",
       "    x.observe(outputEl, {childList: true});\n",
       "}}\n",
       "\n",
       "                        })\n",
       "                };\n",
       "                });\n",
       "            </script>\n",
       "        </div>"
      ]
     },
     "metadata": {},
     "output_type": "display_data"
    }
   ],
   "source": [
    "df = df.sort_values('Journeys', ascending = False)\n",
    "trace1 = go.Bar(\n",
    "    x = df['Type'],\n",
    "    y = df['Journeys'],\n",
    "    name = 'Deaths per Billion Journeys')\n",
    "\n",
    "df = df.sort_values('Hours', ascending = False)\n",
    "trace2 = go.Bar(\n",
    "    x = df['Type'],\n",
    "    y = df['Hours'],\n",
    "    name = 'Deaths per Billion Hours')\n",
    "\n",
    "df = df.sort_values('Kilometers', ascending = False)\n",
    "trace3 = go.Bar(\n",
    "    x = df['Type'],\n",
    "    y = df['Kilometers'],\n",
    "    name = 'Deaths per Billion Kilometers')\n",
    "\n",
    "from plotly import tools\n",
    "fig = tools.make_subplots(rows=1, cols=3)\n",
    "fig.append_trace(trace1,1,1)\n",
    "fig.append_trace(trace2,1,2)\n",
    "fig.append_trace(trace3,1,3)\n",
    "fig['layout'].update(height=600, width=800, title='Most Dangerous Modes of Transportation')\n",
    "plotly.offline.iplot(fig, filename='simple-subplot-with-annotations')"
   ]
  },
  {
   "cell_type": "markdown",
   "metadata": {},
   "source": [
    "challenge: sorting dataframe by row sum\n",
    "\n",
    "challenge 1: sorting a stacked bar chart\n",
    "\n",
    "#solution 1: sort the dataframe first"
   ]
  }
 ],
 "metadata": {
  "kernelspec": {
   "display_name": "Python 3",
   "language": "python",
   "name": "python3"
  },
  "language_info": {
   "codemirror_mode": {
    "name": "ipython",
    "version": 3
   },
   "file_extension": ".py",
   "mimetype": "text/x-python",
   "name": "python",
   "nbconvert_exporter": "python",
   "pygments_lexer": "ipython3",
   "version": "3.6.8"
  }
 },
 "nbformat": 4,
 "nbformat_minor": 2
}
