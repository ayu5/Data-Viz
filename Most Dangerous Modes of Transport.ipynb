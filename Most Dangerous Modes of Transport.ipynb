{
 "cells": [
  {
   "cell_type": "markdown",
   "metadata": {},
   "source": [
    "## Fatality Risk Comparisons Between Modes of Transport \n",
    "data source: https://en.wikipedia.org/wiki/Aviation_safety#Transport_comparisons"
   ]
  },
  {
   "cell_type": "code",
   "execution_count": 19,
   "metadata": {},
   "outputs": [
    {
     "data": {
      "text/html": [
       "        <script type=\"text/javascript\">\n",
       "        window.PlotlyConfig = {MathJaxConfig: 'local'};\n",
       "        if (window.MathJax) {MathJax.Hub.Config({SVG: {font: \"STIX-Web\"}});}\n",
       "        if (typeof require !== 'undefined') {\n",
       "        require.undef(\"plotly\");\n",
       "        requirejs.config({\n",
       "            paths: {\n",
       "                'plotly': ['https://cdn.plot.ly/plotly-latest.min']\n",
       "            }\n",
       "        });\n",
       "        require(['plotly'], function(Plotly) {\n",
       "            window._Plotly = Plotly;\n",
       "        });\n",
       "        }\n",
       "        </script>\n",
       "        "
      ]
     },
     "metadata": {},
     "output_type": "display_data"
    }
   ],
   "source": [
    "import pandas as pd\n",
    "import numpy as np\n",
    "import plotly.graph_objs as go\n",
    "import plotly.plotly as py\n",
    "import plotly\n",
    "plotly.offline.init_notebook_mode(connected=True)"
   ]
  },
  {
   "cell_type": "code",
   "execution_count": 62,
   "metadata": {
    "scrolled": false
   },
   "outputs": [
    {
     "data": {
      "application/vnd.plotly.v1+json": {
       "config": {
        "linkText": "Export to plot.ly",
        "plotlyServerURL": "https://plot.ly",
        "responsive": true,
        "showLink": false
       },
       "data": [
        {
         "name": "Journeys",
         "type": "bar",
         "uid": "3e34bec7-03ac-4c07-aaac-975a396e9dd9",
         "x": [
          "Motorcycle",
          "Pedal cycle",
          "Foot",
          "Car",
          "Air",
          "Water",
          "Van",
          "Rail",
          "Bus"
         ],
         "y": [
          1640,
          170,
          40,
          40,
          117,
          90,
          20,
          20,
          4.3
         ]
        },
        {
         "name": "Hours",
         "type": "bar",
         "uid": "a4cf4821-a9d4-4257-a7a3-21e1f9144082",
         "x": [
          "Motorcycle",
          "Pedal cycle",
          "Foot",
          "Car",
          "Air",
          "Water",
          "Van",
          "Rail",
          "Bus"
         ],
         "y": [
          4840,
          550,
          220,
          130,
          30.8,
          50,
          60,
          30,
          11.1
         ]
        },
        {
         "name": "Kilometers",
         "type": "bar",
         "uid": "e6bfe4f8-bbb9-4f08-914d-34fb75a63116",
         "x": [
          "Motorcycle",
          "Pedal cycle",
          "Foot",
          "Car",
          "Air",
          "Water",
          "Van",
          "Rail",
          "Bus"
         ],
         "y": [
          108.9,
          44.6,
          54.2,
          3.1,
          0.05,
          2.6,
          1.2,
          0.6,
          0.4
         ]
        }
       ],
       "layout": {
        "barmode": "stack",
        "title": {
         "text": "Most Dangerous Mode of Transport"
        },
        "xaxis": {
         "title": {
          "font": {
           "size": 18
          },
          "text": "Type of Transport"
         }
        },
        "yaxis": {
         "title": {
          "font": {
           "size": 18
          },
          "text": "Deaths per Billion"
         }
        }
       }
      },
      "text/html": [
       "<div>\n",
       "        \n",
       "        \n",
       "            <div id=\"7762b4ad-a89a-4c49-9e1e-d92866cbf58c\" class=\"plotly-graph-div\" style=\"height:525px; width:100%;\"></div>\n",
       "            <script type=\"text/javascript\">\n",
       "                require([\"plotly\"], function(Plotly) {\n",
       "                    window.PLOTLYENV=window.PLOTLYENV || {};\n",
       "                    window.PLOTLYENV.BASE_URL='https://plot.ly';\n",
       "                    \n",
       "                if (document.getElementById(\"7762b4ad-a89a-4c49-9e1e-d92866cbf58c\")) {\n",
       "                    Plotly.newPlot(\n",
       "                        '7762b4ad-a89a-4c49-9e1e-d92866cbf58c',\n",
       "                        [{\"name\": \"Journeys\", \"type\": \"bar\", \"uid\": \"f3c3ef69-32c6-49cf-abd9-b922ec9ca91e\", \"x\": [\"Motorcycle\", \"Pedal cycle\", \"Foot\", \"Car\", \"Air\", \"Water\", \"Van\", \"Rail\", \"Bus\"], \"y\": [1640.0, 170.0, 40.0, 40.0, 117.0, 90.0, 20.0, 20.0, 4.3]}, {\"name\": \"Hours\", \"type\": \"bar\", \"uid\": \"772f2f8c-faf6-4f7d-a05f-f75aecdab301\", \"x\": [\"Motorcycle\", \"Pedal cycle\", \"Foot\", \"Car\", \"Air\", \"Water\", \"Van\", \"Rail\", \"Bus\"], \"y\": [4840.0, 550.0, 220.0, 130.0, 30.8, 50.0, 60.0, 30.0, 11.1]}, {\"name\": \"Kilometers\", \"type\": \"bar\", \"uid\": \"3df02ec6-c407-42f2-aace-aaf5bcbc56b9\", \"x\": [\"Motorcycle\", \"Pedal cycle\", \"Foot\", \"Car\", \"Air\", \"Water\", \"Van\", \"Rail\", \"Bus\"], \"y\": [108.9, 44.6, 54.2, 3.1, 0.05, 2.6, 1.2, 0.6, 0.4]}],\n",
       "                        {\"barmode\": \"stack\", \"title\": {\"text\": \"Most Dangerous Mode of Transport\"}, \"xaxis\": {\"title\": {\"font\": {\"size\": 18}, \"text\": \"Type of Transport\"}}, \"yaxis\": {\"title\": {\"font\": {\"size\": 18}, \"text\": \"Deaths per Billion\"}}},\n",
       "                        {\"showLink\": false, \"linkText\": \"Export to plot.ly\", \"plotlyServerURL\": \"https://plot.ly\", \"responsive\": true}\n",
       "                    ).then(function(){\n",
       "                            \n",
       "var gd = document.getElementById('7762b4ad-a89a-4c49-9e1e-d92866cbf58c');\n",
       "var x = new MutationObserver(function (mutations, observer) {{\n",
       "        var display = window.getComputedStyle(gd).display;\n",
       "        if (!display || display === 'none') {{\n",
       "            console.log([gd, 'removed!']);\n",
       "            Plotly.purge(gd);\n",
       "            observer.disconnect();\n",
       "        }}\n",
       "}});\n",
       "\n",
       "// Listen for the removal of the full notebook cells\n",
       "var notebookContainer = gd.closest('#notebook-container');\n",
       "if (notebookContainer) {{\n",
       "    x.observe(notebookContainer, {childList: true});\n",
       "}}\n",
       "\n",
       "// Listen for the clearing of the current output cell\n",
       "var outputEl = gd.closest('.output');\n",
       "if (outputEl) {{\n",
       "    x.observe(outputEl, {childList: true});\n",
       "}}\n",
       "\n",
       "                        })\n",
       "                };\n",
       "                });\n",
       "            </script>\n",
       "        </div>"
      ]
     },
     "metadata": {},
     "output_type": "display_data"
    }
   ],
   "source": [
    "types = ['Bus', 'Rail', 'Van', 'Car', 'Foot', 'Water', 'Air', 'Pedal cycle', 'Motorcycle']\n",
    "journeys = [4.3,20,20,40,40,90,117,170,1640]\n",
    "hours = [11.1,30,60,130,220,50,30.8,550,4840]\n",
    "km = [0.4,0.6,1.2,3.1,54.2,2.6,0.05,44.6,108.9]\n",
    "df = (pd.DataFrame({'Type':types, 'Journeys':journeys, 'Hours':hours, 'Kilometers':km})\n",
    "        .assign(sum=df.sum(axis=1))\n",
    "        .sort_values(by='sum', ascending=False) \n",
    "        .iloc[:, :-1])  \n",
    "#print(df)\n",
    "\n",
    "trace1 = go.Bar(\n",
    "    x = df['Type'],\n",
    "    y = df['Journeys'],\n",
    "    name = 'Journeys')\n",
    "trace2 = go.Bar(\n",
    "    x = df['Type'],\n",
    "    y = df['Hours'],\n",
    "    name = 'Hours')\n",
    "trace3 = go.Bar(\n",
    "    x = df['Type'],\n",
    "    y = df['Kilometers'],\n",
    "    name = 'Kilometers')\n",
    "\n",
    "data = [trace1, trace2, trace3]\n",
    "layout = go.Layout(\n",
    "    barmode='stack',\n",
    "    title = 'Most Dangerous Mode of Transport',\n",
    "    xaxis=go.layout.XAxis(\n",
    "        title=go.layout.xaxis.Title(\n",
    "            text='Type of Transport',\n",
    "            font=dict(\n",
    "                size=18\n",
    "            )\n",
    "        )\n",
    "    ),\n",
    "    yaxis=go.layout.YAxis(\n",
    "        title=go.layout.yaxis.Title(\n",
    "            text='Deaths per Billion',\n",
    "            font=dict(\n",
    "                size=18\n",
    "            )\n",
    "        )\n",
    "    )\n",
    ")\n",
    "\n",
    "fig = go.Figure(data=data, layout=layout)\n",
    "plotly.offline.iplot(fig, filename='stacked-bar')\n",
    "\n",
    "\n",
    "#challenges: sorting dataframe by row sum "
   ]
  },
  {
   "cell_type": "code",
   "execution_count": 65,
   "metadata": {},
   "outputs": [
    {
     "name": "stdout",
     "output_type": "stream",
     "text": [
      "This is the format of your plot grid:\n",
      "[ (1,1) x1,y1 ]  [ (1,2) x2,y2 ]  [ (1,3) x3,y3 ]\n",
      "\n"
     ]
    },
    {
     "data": {
      "application/vnd.plotly.v1+json": {
       "config": {
        "linkText": "Export to plot.ly",
        "plotlyServerURL": "https://plot.ly",
        "responsive": true,
        "showLink": false
       },
       "data": [
        {
         "name": "Deaths per Billion Journeys",
         "type": "bar",
         "uid": "97400c86-4ee7-430d-ae8b-507c576789ef",
         "x": [
          "Motorcycle",
          "Pedal cycle",
          "Air",
          "Water",
          "Foot",
          "Car",
          "Van",
          "Rail",
          "Bus"
         ],
         "xaxis": "x",
         "y": [
          1640,
          170,
          117,
          90,
          40,
          40,
          20,
          20,
          4.3
         ],
         "yaxis": "y"
        },
        {
         "name": "Deaths per Billion Hours",
         "type": "bar",
         "uid": "2b666bc1-7761-4531-89a3-548c488431dd",
         "x": [
          "Motorcycle",
          "Pedal cycle",
          "Foot",
          "Car",
          "Van",
          "Water",
          "Air",
          "Rail",
          "Bus"
         ],
         "xaxis": "x2",
         "y": [
          4840,
          550,
          220,
          130,
          60,
          50,
          30.8,
          30,
          11.1
         ],
         "yaxis": "y2"
        },
        {
         "name": "Deaths per Billion Kilometers",
         "type": "bar",
         "uid": "cf48e707-d4cc-468f-82fc-0cec29b02dcc",
         "x": [
          "Motorcycle",
          "Foot",
          "Pedal cycle",
          "Car",
          "Water",
          "Van",
          "Rail",
          "Bus",
          "Air"
         ],
         "xaxis": "x3",
         "y": [
          108.9,
          54.2,
          44.6,
          3.1,
          2.6,
          1.2,
          0.6,
          0.4,
          0.05
         ],
         "yaxis": "y3"
        }
       ],
       "layout": {
        "height": 600,
        "title": {
         "text": "Most Dangerous Modes of Transportation"
        },
        "width": 800,
        "xaxis": {
         "anchor": "y",
         "domain": [
          0,
          0.2888888888888889
         ]
        },
        "xaxis2": {
         "anchor": "y2",
         "domain": [
          0.35555555555555557,
          0.6444444444444445
         ]
        },
        "xaxis3": {
         "anchor": "y3",
         "domain": [
          0.7111111111111111,
          1
         ]
        },
        "yaxis": {
         "anchor": "x",
         "domain": [
          0,
          1
         ]
        },
        "yaxis2": {
         "anchor": "x2",
         "domain": [
          0,
          1
         ]
        },
        "yaxis3": {
         "anchor": "x3",
         "domain": [
          0,
          1
         ]
        }
       }
      },
      "text/html": [
       "<div>\n",
       "        \n",
       "        \n",
       "            <div id=\"57ce124b-2b7f-4c96-bfc6-dd649c079b6d\" class=\"plotly-graph-div\" style=\"height:600px; width:800px;\"></div>\n",
       "            <script type=\"text/javascript\">\n",
       "                require([\"plotly\"], function(Plotly) {\n",
       "                    window.PLOTLYENV=window.PLOTLYENV || {};\n",
       "                    window.PLOTLYENV.BASE_URL='https://plot.ly';\n",
       "                    \n",
       "                if (document.getElementById(\"57ce124b-2b7f-4c96-bfc6-dd649c079b6d\")) {\n",
       "                    Plotly.newPlot(\n",
       "                        '57ce124b-2b7f-4c96-bfc6-dd649c079b6d',\n",
       "                        [{\"name\": \"Deaths per Billion Journeys\", \"type\": \"bar\", \"uid\": \"cc08b1e8-bad5-4a08-95c6-736ad38e679c\", \"x\": [\"Motorcycle\", \"Pedal cycle\", \"Air\", \"Water\", \"Foot\", \"Car\", \"Van\", \"Rail\", \"Bus\"], \"xaxis\": \"x\", \"y\": [1640.0, 170.0, 117.0, 90.0, 40.0, 40.0, 20.0, 20.0, 4.3], \"yaxis\": \"y\"}, {\"name\": \"Deaths per Billion Hours\", \"type\": \"bar\", \"uid\": \"6a375c3c-d932-4db3-a0a9-57da86e3e2be\", \"x\": [\"Motorcycle\", \"Pedal cycle\", \"Foot\", \"Car\", \"Van\", \"Water\", \"Air\", \"Rail\", \"Bus\"], \"xaxis\": \"x2\", \"y\": [4840.0, 550.0, 220.0, 130.0, 60.0, 50.0, 30.8, 30.0, 11.1], \"yaxis\": \"y2\"}, {\"name\": \"Deaths per Billion Kilometers\", \"type\": \"bar\", \"uid\": \"13fe9b2c-921c-41fa-8313-fd0b21297329\", \"x\": [\"Motorcycle\", \"Foot\", \"Pedal cycle\", \"Car\", \"Water\", \"Van\", \"Rail\", \"Bus\", \"Air\"], \"xaxis\": \"x3\", \"y\": [108.9, 54.2, 44.6, 3.1, 2.6, 1.2, 0.6, 0.4, 0.05], \"yaxis\": \"y3\"}],\n",
       "                        {\"height\": 600, \"title\": {\"text\": \"Most Dangerous Modes of Transportation\"}, \"width\": 800, \"xaxis\": {\"anchor\": \"y\", \"domain\": [0.0, 0.2888888888888889]}, \"xaxis2\": {\"anchor\": \"y2\", \"domain\": [0.35555555555555557, 0.6444444444444445]}, \"xaxis3\": {\"anchor\": \"y3\", \"domain\": [0.7111111111111111, 1.0]}, \"yaxis\": {\"anchor\": \"x\", \"domain\": [0.0, 1.0]}, \"yaxis2\": {\"anchor\": \"x2\", \"domain\": [0.0, 1.0]}, \"yaxis3\": {\"anchor\": \"x3\", \"domain\": [0.0, 1.0]}},\n",
       "                        {\"showLink\": false, \"linkText\": \"Export to plot.ly\", \"plotlyServerURL\": \"https://plot.ly\", \"responsive\": true}\n",
       "                    ).then(function(){\n",
       "                            \n",
       "var gd = document.getElementById('57ce124b-2b7f-4c96-bfc6-dd649c079b6d');\n",
       "var x = new MutationObserver(function (mutations, observer) {{\n",
       "        var display = window.getComputedStyle(gd).display;\n",
       "        if (!display || display === 'none') {{\n",
       "            console.log([gd, 'removed!']);\n",
       "            Plotly.purge(gd);\n",
       "            observer.disconnect();\n",
       "        }}\n",
       "}});\n",
       "\n",
       "// Listen for the removal of the full notebook cells\n",
       "var notebookContainer = gd.closest('#notebook-container');\n",
       "if (notebookContainer) {{\n",
       "    x.observe(notebookContainer, {childList: true});\n",
       "}}\n",
       "\n",
       "// Listen for the clearing of the current output cell\n",
       "var outputEl = gd.closest('.output');\n",
       "if (outputEl) {{\n",
       "    x.observe(outputEl, {childList: true});\n",
       "}}\n",
       "\n",
       "                        })\n",
       "                };\n",
       "                });\n",
       "            </script>\n",
       "        </div>"
      ]
     },
     "metadata": {},
     "output_type": "display_data"
    },
    {
     "ename": "TypeError",
     "evalue": "iplot() got an unexpected keyword argument 'auto_open'",
     "output_type": "error",
     "traceback": [
      "\u001b[1;31m---------------------------------------------------------------------------\u001b[0m",
      "\u001b[1;31mTypeError\u001b[0m                                 Traceback (most recent call last)",
      "\u001b[1;32m<ipython-input-65-c260ebbc4b9e>\u001b[0m in \u001b[0;36m<module>\u001b[1;34m\u001b[0m\n\u001b[0;32m     25\u001b[0m \u001b[0mplotly\u001b[0m\u001b[1;33m.\u001b[0m\u001b[0moffline\u001b[0m\u001b[1;33m.\u001b[0m\u001b[0miplot\u001b[0m\u001b[1;33m(\u001b[0m\u001b[0mfig\u001b[0m\u001b[1;33m,\u001b[0m \u001b[0mfilename\u001b[0m\u001b[1;33m=\u001b[0m\u001b[1;34m'simple-subplot-with-annotations'\u001b[0m\u001b[1;33m)\u001b[0m\u001b[1;33m\u001b[0m\u001b[1;33m\u001b[0m\u001b[0m\n\u001b[0;32m     26\u001b[0m \u001b[1;33m\u001b[0m\u001b[0m\n\u001b[1;32m---> 27\u001b[1;33m \u001b[0mfirst_plot_url\u001b[0m \u001b[1;33m=\u001b[0m \u001b[0mplotly\u001b[0m\u001b[1;33m.\u001b[0m\u001b[0moffline\u001b[0m\u001b[1;33m.\u001b[0m\u001b[0miplot\u001b[0m\u001b[1;33m(\u001b[0m\u001b[0mfig\u001b[0m\u001b[1;33m,\u001b[0m \u001b[0mfilename\u001b[0m\u001b[1;33m=\u001b[0m\u001b[1;34m'simple-subplot-with-annotations'\u001b[0m\u001b[1;33m,\u001b[0m \u001b[0mauto_open\u001b[0m\u001b[1;33m=\u001b[0m\u001b[1;32mFalse\u001b[0m\u001b[1;33m,\u001b[0m\u001b[1;33m)\u001b[0m\u001b[1;33m\u001b[0m\u001b[1;33m\u001b[0m\u001b[0m\n\u001b[0m\u001b[0;32m     28\u001b[0m \u001b[0mprint\u001b[0m\u001b[1;33m(\u001b[0m\u001b[0mfirst_plot_url\u001b[0m\u001b[1;33m)\u001b[0m\u001b[1;33m\u001b[0m\u001b[1;33m\u001b[0m\u001b[0m\n",
      "\u001b[1;31mTypeError\u001b[0m: iplot() got an unexpected keyword argument 'auto_open'"
     ]
    }
   ],
   "source": [
    "df = df.sort_values('Journeys', ascending = False)\n",
    "trace1 = go.Bar(\n",
    "    x = df['Type'],\n",
    "    y = df['Journeys'],\n",
    "    name = 'Deaths per Billion Journeys')\n",
    "\n",
    "df = df.sort_values('Hours', ascending = False)\n",
    "trace2 = go.Bar(\n",
    "    x = df['Type'],\n",
    "    y = df['Hours'],\n",
    "    name = 'Deaths per Billion Hours')\n",
    "\n",
    "df = df.sort_values('Kilometers', ascending = False)\n",
    "trace3 = go.Bar(\n",
    "    x = df['Type'],\n",
    "    y = df['Kilometers'],\n",
    "    name = 'Deaths per Billion Kilometers')\n",
    "\n",
    "from plotly import tools\n",
    "fig = tools.make_subplots(rows=1, cols=3)\n",
    "fig.append_trace(trace1,1,1)\n",
    "fig.append_trace(trace2,1,2)\n",
    "fig.append_trace(trace3,1,3)\n",
    "fig['layout'].update(height=600, width=800, title='Most Dangerous Modes of Transportation')\n",
    "plotly.offline.iplot(fig, filename='simple-subplot-with-annotations')\n",
    "\n",
    "first_plot_url = plotly.offline.iplot(fig, filename='simple-subplot-with-annotations', auto_open=False,)\n",
    "print(first_plot_url)\n"
   ]
  },
  {
   "cell_type": "code",
   "execution_count": 24,
   "metadata": {},
   "outputs": [
    {
     "data": {
      "text/plain": [
       "[0.05, 0.4, 0.6, 1.2, 2.6, 3.1, 44.6, 54.2, 108.9]"
      ]
     },
     "execution_count": 24,
     "metadata": {},
     "output_type": "execute_result"
    }
   ],
   "source": [
    "#challenge 1: sorting a stacked bar chart\n",
    "\n",
    "#solution 1: sort the dataframe first\n"
   ]
  }
 ],
 "metadata": {
  "kernelspec": {
   "display_name": "Python 3",
   "language": "python",
   "name": "python3"
  },
  "language_info": {
   "codemirror_mode": {
    "name": "ipython",
    "version": 3
   },
   "file_extension": ".py",
   "mimetype": "text/x-python",
   "name": "python",
   "nbconvert_exporter": "python",
   "pygments_lexer": "ipython3",
   "version": "3.6.8"
  }
 },
 "nbformat": 4,
 "nbformat_minor": 2
}
